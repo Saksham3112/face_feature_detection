{
 "cells": [
  {
   "cell_type": "code",
   "execution_count": 71,
   "metadata": {},
   "outputs": [],
   "source": [
    "import os \n",
    "list=os.listdir(\"FFHQ\")\n",
    "list=list[0:100]"
   ]
  },
  {
   "cell_type": "code",
   "execution_count": 74,
   "metadata": {},
   "outputs": [],
   "source": [
    "import cv2\n",
    "import time\n",
    "leye_cascade = cv2.CascadeClassifier(cv2.data.haarcascades + 'haarcascade_lefteye_2splits.xml')\n",
    "reye_cascade = cv2.CascadeClassifier(cv2.data.haarcascades + 'haarcascade_righteye_2splits.xml')\n",
    "mouth_cascade = cv2.CascadeClassifier(cv2.data.haarcascades + 'haarcascade_smile.xml')\n",
    "eye_cascade = cv2.CascadeClassifier(cv2.data.haarcascades + 'haarcascade_eye.xml')\n",
    "file=open(\"coordinates_100_Outputsamples.csv\",\"w\")\n",
    "file.write(\"file,left_eye,right_eye,mouth\\n\")\n",
    "for i in list:\n",
    "    face_cascade = cv2.CascadeClassifier(cv2.data.haarcascades + 'haarcascade_frontalface_default.xml')\n",
    "\n",
    "    image = cv2.imread(\"FFHQ/\"+i)\n",
    "    gray = cv2.cvtColor(image, cv2.COLOR_BGR2GRAY)\n",
    "    faces = face_cascade.detectMultiScale(gray, scaleFactor=1.1, minNeighbors=5, minSize=(30, 30))\n",
    "    row=\"\"\n",
    "    row=row+i+','\n",
    "    faces=sorted(faces,key=lambda row: row[2]*row[3],reverse=True)\n",
    "    for (x, y, w, h) in faces[0:1]:\n",
    "        roi_gray = gray[y:y + h, x:x + w]\n",
    "        roi_color = image[y:y + h, x:x + w]\n",
    "        roi_lower_gray = gray[y+h//2:y+h,x:x+w]\n",
    "        roi_lower_color = image[y+h//2:y+h,x:x+w]\n",
    "        roi_upper_gray = gray[y:y+h*2//3,x:x+w]\n",
    "        roi_upper_color = image[y:y+h*2//3,x:x+w]\n",
    "        roi_upper_left_gray = gray[y:y+h*2//3,x+w//2:x+w]\n",
    "        roi_upper_left_color = image[y:y+h*2//3,x+w//2:x+w]\n",
    "        roi_upper_right_gray = gray[y:y+h*2//3,x:x+w//2]\n",
    "        roi_upper_right_color = image[y:y+h*2//3,x:x+w//2]\n",
    "        reyes = reye_cascade.detectMultiScale(roi_upper_right_gray, scaleFactor=1.1, minNeighbors=5)\n",
    "        reyes=sorted(reyes,key=lambda row: row[2]*row[3],reverse=True)\n",
    "        leyes = leye_cascade.detectMultiScale(roi_upper_left_gray, scaleFactor=1.1, minNeighbors=5)\n",
    "        leyes=sorted(leyes,key=lambda row: row[2]*row[3],reverse=True)\n",
    "        eyes = eye_cascade.detectMultiScale(roi_upper_gray, scaleFactor=1.1, minNeighbors=5, minSize=(20, 20))\n",
    "        eyes=sorted(eyes,key=lambda row: row[2]*row[3],reverse=True)\n",
    "        if(eyes.__len__()>=2):\n",
    "            eyes=eyes[0:2]\n",
    "        eyes=sorted(eyes,key=lambda row:row[0],reverse=True)\n",
    "        if (leyes.__len__()==0 or reyes.__len__==0):\n",
    "            for (ex, ey, ew, eh) in eyes[0:min(2,eyes.__len__())]:\n",
    "                eye_x = x + ex + ew // 2\n",
    "                eye_y = y + ey + eh // 2\n",
    "                cv2.rectangle(image, (x+ex, y+ey),(x+ex+ew, y+ey+eh),(0, 0, 0),2)\n",
    "                row=row+'\"'+str((x+ex, y+ey))+str((x+ex+ew, y+ey+eh))+'\"'+\",\"\n",
    "        else:\n",
    "            for (ex, ey, ew, eh) in leyes[0:1]:\n",
    "                eye_x = x + ex + ew // 2\n",
    "                eye_y = y + ey + eh // 2\n",
    "                cv2.rectangle(image, (x+ex+w//2, y+ey),(x+ex+ew+w//2, y+ey+eh),(0, 0, 0),2)\n",
    "                row=row+'\"'+str((x+ex+w//2, y+ey))+str((x+ex+ew+w//2, y+ey+eh))+'\"'+\",\"\n",
    "            for (ex, ey, ew, eh) in reyes[0:1]:\n",
    "                eye_x = x + ex + ew // 2\n",
    "                eye_y = y + ey + eh // 2\n",
    "                cv2.rectangle(image, (x+ex, y+ey),(x+ex+ew, y+ey+eh),(0, 0, 0),2)\n",
    "                row=row+'\"'+str((x+ex, y+ey))+str((x+ex+ew, y+ey+eh))+'\"'+\",\"\n",
    "        mouths = mouth_cascade.detectMultiScale(roi_lower_gray, scaleFactor=1.1, minNeighbors=15, minSize=(20, 20))\n",
    "        mouths=sorted(mouths,key=lambda row: row[2]*row[3],reverse=True)\n",
    "        for (mx, my, mw, mh) in mouths[0:1]:\n",
    "            mouth_x = x + mx + mw // 2\n",
    "            mouth_y = y + my + mh // 2\n",
    "            cv2.rectangle(image, (x+mx, y+my+h//2),(x+mx+mw, y+my+mh+h//2),(0, 0, 0),2)\n",
    "            row=row+'\"'+str((x+mx, y+my+h//2))+str((x+mx+mw, y+my+mh+h//2))+'\"'+\",\"\n",
    "    # cv2.imshow(\"Facial Landmarks\", image)\n",
    "    # cv2.waitKey(0)\n",
    "    # cv2.destroyAllWindows()\n",
    "    cv2.imwrite(\"output/\"+i,image)\n",
    "    row=row+'\\n'\n",
    "    file.write(row)\n",
    "    \n",
    "file.close()\n"
   ]
  },
  {
   "cell_type": "code",
   "execution_count": null,
   "metadata": {},
   "outputs": [],
   "source": []
  },
  {
   "cell_type": "code",
   "execution_count": null,
   "metadata": {},
   "outputs": [],
   "source": []
  }
 ],
 "metadata": {
  "kernelspec": {
   "display_name": "Python 3",
   "language": "python",
   "name": "python3"
  },
  "language_info": {
   "codemirror_mode": {
    "name": "ipython",
    "version": 3
   },
   "file_extension": ".py",
   "mimetype": "text/x-python",
   "name": "python",
   "nbconvert_exporter": "python",
   "pygments_lexer": "ipython3",
   "version": "3.11.3"
  },
  "orig_nbformat": 4
 },
 "nbformat": 4,
 "nbformat_minor": 2
}
